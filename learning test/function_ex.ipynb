{
 "cells": [
  {
   "cell_type": "code",
   "execution_count": 1,
   "id": "97dc66d5",
   "metadata": {},
   "outputs": [
    {
     "name": "stdout",
     "output_type": "stream",
     "text": [
      "212.0\n"
     ]
    }
   ],
   "source": [
    "def convert_temperature(temp, unit):\n",
    "    \"\"\"\n",
    "    Convert temperature between Celsius and Fahrenheit.\n",
    "    \n",
    "    Parameters:\n",
    "    temp (float): Temperature value to convert.\n",
    "    unit (str): 'C' for Celsius, 'F' for Fahrenheit.\n",
    "    \n",
    "    Returns:\n",
    "    float: Converted temperature.\n",
    "    \"\"\"\n",
    "    if unit.upper() == 'C':\n",
    "        return (temp * 9/5) + 32\n",
    "    elif unit.upper() == 'F':\n",
    "        return (temp -32) * 5/9\n",
    "    else:\n",
    "        raise ValueError(\"Unit must be 'C' for Celsius or 'F' for Fahrenheit.\")\n",
    "\n",
    "print(convert_temperature(100, 'C'))  # Example usage"
   ]
  },
  {
   "cell_type": "code",
   "execution_count": 5,
   "id": "ada76e43",
   "metadata": {},
   "outputs": [
    {
     "name": "stdout",
     "output_type": "stream",
     "text": [
      "Weak: Password must contain at least one uppercase letter.\n"
     ]
    }
   ],
   "source": [
    "# Password checking function\n",
    "def check_password_strength(password):\n",
    "    if len(password) < 8:\n",
    "        return \"Weak: Password must be at least 8 characters long.\"\n",
    "    if not any(char.isdigit() for char in password):\n",
    "        return \"Weak: Password must contain at least one digit.\"\n",
    "    if not any(char.isupper() for char in password):\n",
    "        return \"Weak: Password must contain at least one uppercase letter.\"\n",
    "    if not any(char.islower() for char in password):\n",
    "        return \"Weak: Password must contain at least one lowercase letter.\"\n",
    "    if not any(char in \"!@#$%^&*()-_+\" for char in password):\n",
    "        return \"Weak: Password must contain at least one special character.\"\n",
    "    return True\n",
    "\n",
    "print(check_password_strength(\"aassword123\"))  # Example usage"
   ]
  },
  {
   "cell_type": "code",
   "execution_count": 9,
   "id": "395be053",
   "metadata": {},
   "outputs": [
    {
     "name": "stdout",
     "output_type": "stream",
     "text": [
      "3.0\n"
     ]
    }
   ],
   "source": [
    "# Calculate total cost of items in a shopping cart\n",
    "def calculate_total_cost(cart):\n",
    "    total_cost = 0\n",
    "    for i in cart:\n",
    "        total_cost  += i['price'] * i['quantity']\n",
    "        return total_cost\n",
    "\n",
    "cart = [{\"item\": \"apple\", \"price\": 1.0, \"quantity\": 3},\n",
    "        {\"item\": \"banana\", \"price\": 0.5, \"quantity\": 5},\n",
    "        {\"item\": \"orange\", \"price\": 0.75, \"quantity\": 2}\n",
    "    ]\n",
    "print(calculate_total_cost(cart))  # Example usage"
   ]
  },
  {
   "cell_type": "code",
   "execution_count": 10,
   "id": "6b43bba1",
   "metadata": {},
   "outputs": [
    {
     "name": "stdout",
     "output_type": "stream",
     "text": [
      "True\n",
      "False\n"
     ]
    }
   ],
   "source": [
    "# String is a palindrome\n",
    "def is_palindrome(s):\n",
    "    s = s.lower().replace(\" \", \"\")\n",
    "    return s == s[::-1]\n",
    "\n",
    "print(is_palindrome(\"abba\"))  # Example usage\n",
    "print(is_palindrome(\"hello\"))  # Example usage"
   ]
  },
  {
   "cell_type": "code",
   "execution_count": null,
   "id": "de93df42",
   "metadata": {},
   "outputs": [],
   "source": []
  }
 ],
 "metadata": {
  "kernelspec": {
   "display_name": ".venv",
   "language": "python",
   "name": "python3"
  },
  "language_info": {
   "codemirror_mode": {
    "name": "ipython",
    "version": 3
   },
   "file_extension": ".py",
   "mimetype": "text/x-python",
   "name": "python",
   "nbconvert_exporter": "python",
   "pygments_lexer": "ipython3",
   "version": "3.12.9"
  }
 },
 "nbformat": 4,
 "nbformat_minor": 5
}
